{
    "metadata": {
        "kernelspec": {
            "name": "SQL",
            "display_name": "SQL",
            "language": "sql"
        },
        "language_info": {
            "name": "sql",
            "version": ""
        }
    },
    "nbformat_minor": 2,
    "nbformat": 4,
    "cells": [
        {
            "cell_type": "markdown",
            "source": [
                "# A nice notebook exercising Visual Studio Code / Azure Data Studio"
            ],
            "metadata": {
                "azdata_cell_guid": "2cb27088-126f-4543-9412-248a92386150"
            }
        },
        {
            "cell_type": "markdown",
            "source": [
                "This is some introductory text explaining the purpose of the notebook and what we are aiming to achieve.\n",
                "\n",
                "Here is another short paragraph detailing what we are going to do."
            ],
            "metadata": {
                "azdata_cell_guid": "488127eb-fe7e-4880-9bef-3be3272403bc"
            }
        },
        {
            "cell_type": "markdown",
            "source": [
                "First connect to localhost\\\\sql2019 and choose the AdventureWorks2019 database."
            ],
            "metadata": {
                "azdata_cell_guid": "932adfe9-6259-48c9-9a83-40bd2bf4c6dd"
            }
        },
        {
            "cell_type": "code",
            "source": [
                "select top 10 * from HumanResources.Department"
            ],
            "metadata": {
                "azdata_cell_guid": "13b8cfdc-a1c6-4ddd-a0e9-233bf660d1f1"
            },
            "outputs": [
                {
                    "output_type": "display_data",
                    "data": {
                        "text/html": "(10 rows affected)"
                    },
                    "metadata": {}
                },
                {
                    "output_type": "display_data",
                    "data": {
                        "text/html": "Total execution time: 00:00:00.089"
                    },
                    "metadata": {}
                },
                {
                    "output_type": "execute_result",
                    "metadata": {
                        "resultSet": {
                            "id": 0,
                            "batchId": 0,
                            "rowCount": 10,
                            "complete": false,
                            "columnInfo": [
                                {
                                    "isBytes": false,
                                    "isChars": false,
                                    "isSqlVariant": false,
                                    "isUdt": false,
                                    "isXml": false,
                                    "isJson": false,
                                    "sqlDbType": 16,
                                    "isHierarchyId": false,
                                    "isSqlXmlType": false,
                                    "isUnknownType": false,
                                    "isUpdatable": false,
                                    "allowDBNull": false,
                                    "baseCatalogName": null,
                                    "baseColumnName": null,
                                    "baseSchemaName": null,
                                    "baseServerName": null,
                                    "baseTableName": null,
                                    "columnName": "DepartmentID",
                                    "columnOrdinal": 0,
                                    "columnSize": 2,
                                    "isAliased": null,
                                    "isAutoIncrement": true,
                                    "isExpression": null,
                                    "isHidden": null,
                                    "isIdentity": true,
                                    "isKey": null,
                                    "isLong": false,
                                    "isReadOnly": true,
                                    "isUnique": false,
                                    "numericPrecision": 5,
                                    "numericScale": 255,
                                    "udtAssemblyQualifiedName": null,
                                    "dataType": "System.Int16, System.Private.CoreLib, Version=4.0.0.0, Culture=neutral, PublicKeyToken=7cec85d7bea7798e",
                                    "dataTypeName": "smallint"
                                },
                                {
                                    "isBytes": false,
                                    "isChars": true,
                                    "isSqlVariant": false,
                                    "isUdt": false,
                                    "isXml": false,
                                    "isJson": false,
                                    "sqlDbType": 12,
                                    "isHierarchyId": false,
                                    "isSqlXmlType": false,
                                    "isUnknownType": false,
                                    "isUpdatable": true,
                                    "allowDBNull": false,
                                    "baseCatalogName": null,
                                    "baseColumnName": null,
                                    "baseSchemaName": null,
                                    "baseServerName": null,
                                    "baseTableName": null,
                                    "columnName": "Name",
                                    "columnOrdinal": 1,
                                    "columnSize": 50,
                                    "isAliased": null,
                                    "isAutoIncrement": false,
                                    "isExpression": null,
                                    "isHidden": null,
                                    "isIdentity": false,
                                    "isKey": null,
                                    "isLong": false,
                                    "isReadOnly": false,
                                    "isUnique": false,
                                    "numericPrecision": 255,
                                    "numericScale": 255,
                                    "udtAssemblyQualifiedName": null,
                                    "dataType": "System.String, System.Private.CoreLib, Version=4.0.0.0, Culture=neutral, PublicKeyToken=7cec85d7bea7798e",
                                    "dataTypeName": "nvarchar"
                                },
                                {
                                    "isBytes": false,
                                    "isChars": true,
                                    "isSqlVariant": false,
                                    "isUdt": false,
                                    "isXml": false,
                                    "isJson": false,
                                    "sqlDbType": 12,
                                    "isHierarchyId": false,
                                    "isSqlXmlType": false,
                                    "isUnknownType": false,
                                    "isUpdatable": true,
                                    "allowDBNull": false,
                                    "baseCatalogName": null,
                                    "baseColumnName": null,
                                    "baseSchemaName": null,
                                    "baseServerName": null,
                                    "baseTableName": null,
                                    "columnName": "GroupName",
                                    "columnOrdinal": 2,
                                    "columnSize": 50,
                                    "isAliased": null,
                                    "isAutoIncrement": false,
                                    "isExpression": null,
                                    "isHidden": null,
                                    "isIdentity": false,
                                    "isKey": null,
                                    "isLong": false,
                                    "isReadOnly": false,
                                    "isUnique": false,
                                    "numericPrecision": 255,
                                    "numericScale": 255,
                                    "udtAssemblyQualifiedName": null,
                                    "dataType": "System.String, System.Private.CoreLib, Version=4.0.0.0, Culture=neutral, PublicKeyToken=7cec85d7bea7798e",
                                    "dataTypeName": "nvarchar"
                                },
                                {
                                    "isBytes": false,
                                    "isChars": false,
                                    "isSqlVariant": false,
                                    "isUdt": false,
                                    "isXml": false,
                                    "isJson": false,
                                    "sqlDbType": 4,
                                    "isHierarchyId": false,
                                    "isSqlXmlType": false,
                                    "isUnknownType": false,
                                    "isUpdatable": true,
                                    "allowDBNull": false,
                                    "baseCatalogName": null,
                                    "baseColumnName": null,
                                    "baseSchemaName": null,
                                    "baseServerName": null,
                                    "baseTableName": null,
                                    "columnName": "ModifiedDate",
                                    "columnOrdinal": 3,
                                    "columnSize": 8,
                                    "isAliased": null,
                                    "isAutoIncrement": false,
                                    "isExpression": null,
                                    "isHidden": null,
                                    "isIdentity": false,
                                    "isKey": null,
                                    "isLong": false,
                                    "isReadOnly": false,
                                    "isUnique": false,
                                    "numericPrecision": 23,
                                    "numericScale": 3,
                                    "udtAssemblyQualifiedName": null,
                                    "dataType": "System.DateTime, System.Private.CoreLib, Version=4.0.0.0, Culture=neutral, PublicKeyToken=7cec85d7bea7798e",
                                    "dataTypeName": "datetime"
                                }
                            ],
                            "specialAction": null
                        }
                    },
                    "execution_count": 1,
                    "data": {
                        "application/vnd.dataresource+json": {
                            "schema": {
                                "fields": [
                                    {
                                        "name": "DepartmentID"
                                    },
                                    {
                                        "name": "Name"
                                    },
                                    {
                                        "name": "GroupName"
                                    },
                                    {
                                        "name": "ModifiedDate"
                                    }
                                ]
                            },
                            "data": [
                                {
                                    "0": "1",
                                    "1": "Engineering",
                                    "2": "Research and Development",
                                    "3": "2008-04-30 00:00:00.000"
                                },
                                {
                                    "0": "2",
                                    "1": "Tool Design",
                                    "2": "Research and Development",
                                    "3": "2008-04-30 00:00:00.000"
                                },
                                {
                                    "0": "3",
                                    "1": "Sales",
                                    "2": "Sales and Marketing",
                                    "3": "2008-04-30 00:00:00.000"
                                },
                                {
                                    "0": "4",
                                    "1": "Marketing",
                                    "2": "Sales and Marketing",
                                    "3": "2008-04-30 00:00:00.000"
                                },
                                {
                                    "0": "5",
                                    "1": "Purchasing",
                                    "2": "Inventory Management",
                                    "3": "2008-04-30 00:00:00.000"
                                },
                                {
                                    "0": "6",
                                    "1": "Research and Development",
                                    "2": "Research and Development",
                                    "3": "2008-04-30 00:00:00.000"
                                },
                                {
                                    "0": "7",
                                    "1": "Production",
                                    "2": "Manufacturing",
                                    "3": "2008-04-30 00:00:00.000"
                                },
                                {
                                    "0": "8",
                                    "1": "Production Control",
                                    "2": "Manufacturing",
                                    "3": "2008-04-30 00:00:00.000"
                                },
                                {
                                    "0": "9",
                                    "1": "Human Resources",
                                    "2": "Executive General and Administration",
                                    "3": "2008-04-30 00:00:00.000"
                                },
                                {
                                    "0": "10",
                                    "1": "Finance",
                                    "2": "Executive General and Administration",
                                    "3": "2008-04-30 00:00:00.000"
                                }
                            ]
                        },
                        "text/html": [
                            "<table>",
                            "<tr><th>DepartmentID</th><th>Name</th><th>GroupName</th><th>ModifiedDate</th></tr>",
                            "<tr><td>1</td><td>Engineering</td><td>Research and Development</td><td>2008-04-30 00:00:00.000</td></tr>",
                            "<tr><td>2</td><td>Tool Design</td><td>Research and Development</td><td>2008-04-30 00:00:00.000</td></tr>",
                            "<tr><td>3</td><td>Sales</td><td>Sales and Marketing</td><td>2008-04-30 00:00:00.000</td></tr>",
                            "<tr><td>4</td><td>Marketing</td><td>Sales and Marketing</td><td>2008-04-30 00:00:00.000</td></tr>",
                            "<tr><td>5</td><td>Purchasing</td><td>Inventory Management</td><td>2008-04-30 00:00:00.000</td></tr>",
                            "<tr><td>6</td><td>Research and Development</td><td>Research and Development</td><td>2008-04-30 00:00:00.000</td></tr>",
                            "<tr><td>7</td><td>Production</td><td>Manufacturing</td><td>2008-04-30 00:00:00.000</td></tr>",
                            "<tr><td>8</td><td>Production Control</td><td>Manufacturing</td><td>2008-04-30 00:00:00.000</td></tr>",
                            "<tr><td>9</td><td>Human Resources</td><td>Executive General and Administration</td><td>2008-04-30 00:00:00.000</td></tr>",
                            "<tr><td>10</td><td>Finance</td><td>Executive General and Administration</td><td>2008-04-30 00:00:00.000</td></tr>",
                            "</table>"
                        ]
                    }
                }
            ],
            "execution_count": 1
        }
    ]
}